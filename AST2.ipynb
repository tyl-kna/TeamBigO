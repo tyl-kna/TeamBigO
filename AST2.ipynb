{
 "cells": [
  {
   "cell_type": "code",
   "execution_count": 47,
   "id": "46264811-e69c-4809-8431-b232128684a2",
   "metadata": {},
   "outputs": [],
   "source": [
    "import ast\n",
    "import sympy\n",
    "import matplotlib.pyplot as plt\n",
    "plt.rcParams['text.usetex'] = True"
   ]
  },
  {
   "cell_type": "code",
   "execution_count": 48,
   "id": "7d03ce90-6f91-4112-8349-88ebeac88b96",
   "metadata": {},
   "outputs": [],
   "source": [
    "with open(\"./test/test.py\") as f:\n",
    "    program = f.read()"
   ]
  },
  {
   "cell_type": "code",
   "execution_count": 49,
   "id": "13a73887-d86b-44bb-86e1-457a3464460c",
   "metadata": {},
   "outputs": [],
   "source": [
    "tree = ast.parse(program)"
   ]
  },
  {
   "cell_type": "code",
   "execution_count": 50,
   "id": "595d964d-3f4d-400a-9191-fe745c0c81ee",
   "metadata": {},
   "outputs": [
    {
     "data": {
      "text/plain": [
       "<ast.Module at 0x7fef23ed88b0>"
      ]
     },
     "execution_count": 50,
     "metadata": {},
     "output_type": "execute_result"
    }
   ],
   "source": [
    "tree"
   ]
  },
  {
   "cell_type": "code",
   "execution_count": 51,
   "id": "40af0fa9-4079-4b44-968d-73c66610a1a1",
   "metadata": {},
   "outputs": [
    {
     "data": {
      "text/latex": [
       "$\\displaystyle \\left\\lceil{2 n_{a}}\\right\\rceil + 11$"
      ],
      "text/plain": [
       "ceiling(2*n_a) + 11"
      ]
     },
     "execution_count": 51,
     "metadata": {},
     "output_type": "execute_result"
    }
   ],
   "source": [
    "complexities = {}\n",
    "\n",
    "class Visitor(ast.NodeVisitor):\n",
    "    def visit_Await(self, node):\n",
    "        self.generic_visit(node)\n",
    "\n",
    "    def visit_Call(self,node):\n",
    "        self.generic_visit(node)\n",
    "\n",
    "    def visit_Name(self,node):\n",
    "        self.generic_visit(node)\n",
    "\n",
    "    def visit_Attribute(self,node):\n",
    "        self.generic_visit(node)\n",
    "\n",
    "    def visit_Module(self,node):\n",
    "        self.generic_visit(node)\n",
    "\n",
    "    def visit_ClassDef(self,node):\n",
    "        self.generic_visit(node)\n",
    "\n",
    "    def visit_Import(self,node):\n",
    "        self.generic_visit(node)\n",
    "\n",
    "    def visit_FunctionDef(self,node):\n",
    "        self.generic_visit(node)\n",
    "\n",
    "    def visit_Expr(self,node):\n",
    "        self.generic_visit(node)\n",
    "\n",
    "    def visit_For(self,node):\n",
    "        self.generic_visit(node)\n",
    "\n",
    "    def visit_BinOp(self,node):\n",
    "        self.generic_visit(node)\n",
    "\n",
    "    def visit_While(self,node):\n",
    "        self.generic_visit(node)\n",
    "\n",
    "    def visit_If(self,node):\n",
    "        self.generic_visit(node)\n",
    "\n",
    "    def visit_Break(self,node):\n",
    "        self.generic_visit(node)\n",
    "\n",
    "    def visit_Continue(self,node):\n",
    "        self.generic_visit(node)\n",
    "\n",
    "\n",
    "class _FunctionFinder(Visitor):\n",
    "    def __init__(self):\n",
    "        self.result = []\n",
    "\n",
    "    def visit_FunctionDef(self, node):\n",
    "        self.result.append(node)\n",
    "        self.generic_visit(node)\n",
    "\n",
    "class _ComplexityAnalyzer(Visitor):\n",
    "    def __init__(self):\n",
    "        self.input_symbols = {}\n",
    "        self.result = [0]\n",
    "\n",
    "    def visit_Assign(self, node):\n",
    "        self.generic_visit(node)\n",
    "\n",
    "    def visit_AugAssign(self, node):\n",
    "        self.generic_visit(node)\n",
    "\n",
    "    def visit_For(self, node):\n",
    "        self.result.append(0)\n",
    "        self.generic_visit(node)\n",
    "        inner_complexity = self.result.pop()\n",
    "        iter = self.evaluate(node.iter)\n",
    "        assert isinstance(iter, _Iterable)\n",
    "        iter_complexity = iter.length\n",
    "        complexity = iter_complexity + 1 + iter_complexity*inner_complexity\n",
    "        self.result[-1] += complexity\n",
    "\n",
    "    def evaluate(self, expr):\n",
    "        if isinstance(expr, ast.Constant):\n",
    "            return expr.value\n",
    "        if isinstance(expr, ast.Name):\n",
    "            return self.input_symbols[expr.id]\n",
    "        if isinstance(expr, ast.Expr):\n",
    "            return self.evaluate(expr)\n",
    "\n",
    "        if isinstance(expr, ast.BinOp):\n",
    "            if isinstance(expr.op, ast.Mult):\n",
    "                return self.evaluate(expr.left) * self.evaluate(expr.right)\n",
    "            if isinstance(expr.op, ast.Div):\n",
    "                return self.evaluate(expr.left) / self.evaluate(expr.right)\n",
    "            if isinstance(expr.op, ast.Sub):\n",
    "                return self.evaluate(expr.left) - self.evaluate(expr.right)\n",
    "            if isinstance(expr.op, ast.Add):\n",
    "                return self.evaluate(expr.left) + self.evaluate(expr.right)\n",
    "            if isinstance(expr.op, ast.Mod):\n",
    "                return self.evaluate(expr.left) % self.evaluate(expr.right)\n",
    "            if isinstance(expr.op, ast.Pow):\n",
    "                return self.evaluate(expr.left) ** self.evaluate(expr.right)\n",
    "\n",
    "        if isinstance(expr, ast.Call):\n",
    "            if expr.func.id == \"len\":\n",
    "                return self.evaluate(expr.args[0]).length\n",
    "            if expr.func.id == \"range\":\n",
    "                args = [self.evaluate(arg) for arg in expr.args]\n",
    "                return compute_range(*args)\n",
    "        else:\n",
    "            raise Exception(\"Unknown Type: \", expr)\n",
    "\n",
    "    def analyze(self, node):\n",
    "        assert isinstance(node, ast.FunctionDef)\n",
    "        node.args._fields\n",
    "        posonlyargs = node.args.posonlyargs or []\n",
    "        args = node.args.args or []\n",
    "        vararg = node.args.vararg or []\n",
    "        kwonlyargs = node.args.kwonlyargs or []\n",
    "        kwarg = node.args.kwarg or []\n",
    "        all_args = posonlyargs + args + vararg + kwonlyargs + kwarg\n",
    "        for arg in all_args:\n",
    "            if arg.annotation.id in (\"list\", \"dict\", \"str\", \"set\", \"tuple\"):\n",
    "                self.input_symbols[arg.arg] = _Iterable(sympy.Symbol(f\"n_{arg.arg}\"))\n",
    "            else:\n",
    "                self.input_symbols[arg.arg] = sympy.Symbol(f\"n_{arg.arg}\")\n",
    "        self.generic_visit(node)\n",
    "        assert len(self.result) == 1\n",
    "        return self.result[0]\n",
    "\n",
    "def compute_range(start, stop=None, step=1):\n",
    "    if stop is None:\n",
    "        stop = start\n",
    "        start = 0\n",
    "    return _Iterable(sympy.ceiling((stop-start)/step))\n",
    "\n",
    "class _Iterable():\n",
    "    def __init__(self, length):\n",
    "        self.length = length\n",
    "\n",
    "    def __repr__(self):\n",
    "        return f\"_Iterable(self.length)\"\n",
    "\n",
    "def find_functions(tree):\n",
    "    finder = _FunctionFinder()\n",
    "    finder.visit(tree)\n",
    "    return finder.result\n",
    "\n",
    "def compute_complexity(func_def):\n",
    "    analyzer = _ComplexityAnalyzer()\n",
    "    complexity = analyzer.analyze(func_def)\n",
    "    return complexity\n",
    "\n",
    "\n",
    "functions = find_functions(tree)\n",
    "functions\n",
    "\n",
    "compute_complexity(functions[1])"
   ]
  },
  {
   "cell_type": "code",
   "execution_count": null,
   "id": "0c849699-6b76-4571-8100-3f779915d83e",
   "metadata": {},
   "outputs": [],
   "source": []
  },
  {
   "cell_type": "code",
   "execution_count": null,
   "id": "c126cf43-553e-44c0-aba7-4a52722eba2a",
   "metadata": {},
   "outputs": [],
   "source": []
  }
 ],
 "metadata": {
  "kernelspec": {
   "display_name": "Python 3 (ipykernel)",
   "language": "python",
   "name": "python3"
  },
  "language_info": {
   "codemirror_mode": {
    "name": "ipython",
    "version": 3
   },
   "file_extension": ".py",
   "mimetype": "text/x-python",
   "name": "python",
   "nbconvert_exporter": "python",
   "pygments_lexer": "ipython3",
   "version": "3.11.6"
  }
 },
 "nbformat": 4,
 "nbformat_minor": 5
}
